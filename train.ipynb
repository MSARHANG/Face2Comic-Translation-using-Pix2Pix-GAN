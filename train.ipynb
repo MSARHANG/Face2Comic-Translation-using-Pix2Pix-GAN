{
 "cells": [
  {
   "cell_type": "code",
   "execution_count": 3,
   "metadata": {},
   "outputs": [],
   "source": [
    "import config\n",
    "from models.generator import Generator\n",
    "from models.discriminator import Discriminator\n",
    "from utils import save_checkpoint, load_checkpoint, save_some_examples\n",
    "from dataset import MapDataset\n",
    "\n",
    "import torch\n",
    "import torch.nn as nn\n",
    "import torch.optim as optim\n",
    "from torch.utils.data import DataLoader, random_split\n",
    "\n",
    "import numpy as np \n",
    "from tqdm import tqdm\n",
    "import matplotlib.pyplot as plt "
   ]
  },
  {
   "cell_type": "code",
   "execution_count": null,
   "metadata": {},
   "outputs": [],
   "source": [
    "status = torch.cuda.is_available()\n",
    "print(status)"
   ]
  },
  {
   "cell_type": "code",
   "execution_count": 4,
   "metadata": {},
   "outputs": [],
   "source": [
    "disc = Discriminator(in_channels=3).to(config.DEVICE)\n",
    "gen = Generator(in_channels=3).to(config.DEVICE)\n",
    "\n",
    "opt_disc = optim.Adam(disc.parameters(), lr=config.LEARNING_RATE, betas=(config.BETA_1, config.BETA_2))\n",
    "opt_gen = optim.Adam(gen.parameters(), lr=config.LEARNING_RATE, betas=(config.BETA_1, config.BETA_2))\n",
    "\n",
    "BCE = nn.BCEWithLogitsLoss()\n",
    "L1_LOSS = nn.L1Loss()"
   ]
  },
  {
   "cell_type": "code",
   "execution_count": 5,
   "metadata": {},
   "outputs": [
    {
     "name": "stdout",
     "output_type": "stream",
     "text": [
      "=> Loading checkpoint\n",
      "weights not found\n"
     ]
    }
   ],
   "source": [
    "if config.LOAD_MODEL:\n",
    "    try:\n",
    "        \n",
    "        load_checkpoint(config.GENERATOR_CHECKPOINTS, gen, opt_gen, config.LEARNING_RATE)\n",
    "        load_checkpoint(config.DISCRIMINATOR_CHECKPOINTS, disc, opt_disc, config.LEARNING_RATE)\n",
    "    except:\n",
    "        print('weights not found')"
   ]
  },
  {
   "cell_type": "code",
   "execution_count": 6,
   "metadata": {},
   "outputs": [],
   "source": [
    "root_dir = config.ROOT_DIR\n",
    "dataset = MapDataset(root_dir)\n",
    "\n",
    "val_size = 100\n",
    "train_size = len(dataset) - val_size\n",
    "train_dataset, val_dataset = random_split(dataset, [train_size, val_size])\n",
    "\n",
    "train_loader = DataLoader(train_dataset, batch_size=config.BATCH_SIZE, shuffle=True, num_workers=config.NUM_WORKERS)\n",
    "val_loader = DataLoader(val_dataset, batch_size=config.BATCH_SIZE, shuffle=False)\n",
    "g_scaler = torch.cuda.amp.GradScaler()\n",
    "d_scaler = torch.cuda.amp.GradScaler()\n"
   ]
  },
  {
   "cell_type": "code",
   "execution_count": 7,
   "metadata": {},
   "outputs": [],
   "source": [
    "def train_fn(\n",
    "    disc, gen, loader, opt_disc, opt_gen, l1_loss, bce, g_scaler, d_scaler,\n",
    "):\n",
    "    loop = tqdm(loader, leave=True)\n",
    "\n",
    "    for idx, (x, y) in enumerate(loop):\n",
    "        x = x.to(config.DEVICE)\n",
    "        y = y.to(config.DEVICE)\n",
    "\n",
    "        with torch.cuda.amp.autocast():\n",
    "            y_fake = gen(x)\n",
    "            D_real = disc(x, y)\n",
    "            D_real_loss = bce(D_real, torch.ones_like(D_real))\n",
    "            D_fake = disc(x, y_fake.detach())\n",
    "            D_fake_loss = bce(D_fake, torch.zeros_like(D_fake))\n",
    "            D_loss = (D_real_loss + D_fake_loss) / 2\n",
    "\n",
    "        opt_disc.zero_grad()\n",
    "        d_scaler.scale(D_loss).backward()\n",
    "        d_scaler.step(opt_disc)\n",
    "        d_scaler.update()\n",
    "\n",
    "        for _ in range(2): \n",
    "            with torch.cuda.amp.autocast():\n",
    "                y_fake = gen(x)  \n",
    "                D_fake = disc(x, y_fake)\n",
    "                G_fake_loss = bce(D_fake, torch.ones_like(D_fake))\n",
    "                L1 = l1_loss(y_fake, y) * config.L1_LAMBDA\n",
    "                G_loss = G_fake_loss + L1\n",
    "\n",
    "            opt_gen.zero_grad()\n",
    "            g_scaler.scale(G_loss).backward()\n",
    "            g_scaler.step(opt_gen)\n",
    "            g_scaler.update()\n",
    "\n",
    "        if idx % 10 == 0:\n",
    "            loop.set_postfix(\n",
    "                D_real=torch.sigmoid(D_real).mean().item(),\n",
    "                D_fake=torch.sigmoid(D_fake).mean().item(),\n",
    "            )"
   ]
  },
  {
   "cell_type": "code",
   "execution_count": 8,
   "metadata": {},
   "outputs": [
    {
     "name": "stderr",
     "output_type": "stream",
     "text": [
      "100%|██████████| 44/44 [00:33<00:00,  1.31it/s, D_fake=0.518, D_real=0.581]\n"
     ]
    },
    {
     "name": "stdout",
     "output_type": "stream",
     "text": [
      "=> Saving checkpoint\n",
      "=> Saving checkpoint\n"
     ]
    },
    {
     "name": "stderr",
     "output_type": "stream",
     "text": [
      "100%|██████████| 44/44 [00:31<00:00,  1.39it/s, D_fake=0.514, D_real=0.582]\n",
      "100%|██████████| 44/44 [00:31<00:00,  1.40it/s, D_fake=0.523, D_real=0.564]\n",
      "100%|██████████| 44/44 [00:30<00:00,  1.45it/s, D_fake=0.519, D_real=0.566]\n",
      "100%|██████████| 44/44 [00:30<00:00,  1.45it/s, D_fake=0.525, D_real=0.531]\n",
      "100%|██████████| 44/44 [00:31<00:00,  1.40it/s, D_fake=0.507, D_real=0.575]\n",
      "100%|██████████| 44/44 [00:31<00:00,  1.38it/s, D_fake=0.522, D_real=0.576]\n",
      "100%|██████████| 44/44 [00:31<00:00,  1.39it/s, D_fake=0.537, D_real=0.578]\n",
      "100%|██████████| 44/44 [00:31<00:00,  1.39it/s, D_fake=0.505, D_real=0.578]\n",
      "100%|██████████| 44/44 [00:31<00:00,  1.38it/s, D_fake=0.511, D_real=0.579]\n",
      "100%|██████████| 44/44 [00:31<00:00,  1.38it/s, D_fake=0.503, D_real=0.58] \n"
     ]
    },
    {
     "name": "stdout",
     "output_type": "stream",
     "text": [
      "=> Saving checkpoint\n",
      "=> Saving checkpoint\n"
     ]
    },
    {
     "name": "stderr",
     "output_type": "stream",
     "text": [
      "100%|██████████| 44/44 [00:31<00:00,  1.38it/s, D_fake=0.501, D_real=0.579]\n",
      "100%|██████████| 44/44 [00:31<00:00,  1.38it/s, D_fake=0.5, D_real=0.582]  \n",
      "100%|██████████| 44/44 [00:31<00:00,  1.38it/s, D_fake=0.5, D_real=0.583]  \n",
      "100%|██████████| 44/44 [00:31<00:00,  1.38it/s, D_fake=0.5, D_real=0.582]  \n",
      "100%|██████████| 44/44 [00:31<00:00,  1.38it/s, D_fake=0.5, D_real=0.586]  \n",
      "100%|██████████| 44/44 [00:31<00:00,  1.38it/s, D_fake=0.499, D_real=0.586]\n",
      "100%|██████████| 44/44 [00:31<00:00,  1.38it/s, D_fake=0.499, D_real=0.587]\n",
      "100%|██████████| 44/44 [00:31<00:00,  1.38it/s, D_fake=0.5, D_real=0.583]  \n",
      "100%|██████████| 44/44 [00:31<00:00,  1.38it/s, D_fake=0.499, D_real=0.588]\n",
      "100%|██████████| 44/44 [00:31<00:00,  1.39it/s, D_fake=0.504, D_real=0.589]\n"
     ]
    },
    {
     "name": "stdout",
     "output_type": "stream",
     "text": [
      "=> Saving checkpoint\n",
      "=> Saving checkpoint\n"
     ]
    },
    {
     "name": "stderr",
     "output_type": "stream",
     "text": [
      "100%|██████████| 44/44 [00:31<00:00,  1.38it/s, D_fake=0.51, D_real=0.588] \n",
      "100%|██████████| 44/44 [00:32<00:00,  1.37it/s, D_fake=0.5, D_real=0.591]  \n",
      "100%|██████████| 44/44 [00:31<00:00,  1.38it/s, D_fake=0.5, D_real=0.592]  \n",
      "100%|██████████| 44/44 [00:31<00:00,  1.38it/s, D_fake=0.5, D_real=0.591]  \n",
      "100%|██████████| 44/44 [00:31<00:00,  1.38it/s, D_fake=0.509, D_real=0.593]\n",
      "100%|██████████| 44/44 [00:31<00:00,  1.38it/s, D_fake=0.51, D_real=0.573] \n",
      "100%|██████████| 44/44 [00:31<00:00,  1.38it/s, D_fake=0.499, D_real=0.594]\n",
      "100%|██████████| 44/44 [00:31<00:00,  1.38it/s, D_fake=0.511, D_real=0.595]\n",
      "100%|██████████| 44/44 [00:32<00:00,  1.37it/s, D_fake=0.5, D_real=0.597]  \n",
      "100%|██████████| 44/44 [00:31<00:00,  1.38it/s, D_fake=0.504, D_real=0.598]\n"
     ]
    },
    {
     "name": "stdout",
     "output_type": "stream",
     "text": [
      "=> Saving checkpoint\n",
      "=> Saving checkpoint\n"
     ]
    },
    {
     "name": "stderr",
     "output_type": "stream",
     "text": [
      "100%|██████████| 44/44 [00:32<00:00,  1.37it/s, D_fake=0.502, D_real=0.598]\n",
      "100%|██████████| 44/44 [00:32<00:00,  1.37it/s, D_fake=0.499, D_real=0.599]\n",
      "100%|██████████| 44/44 [00:31<00:00,  1.38it/s, D_fake=0.5, D_real=0.6]  \n",
      "100%|██████████| 44/44 [00:31<00:00,  1.38it/s, D_fake=0.5, D_real=0.599]  \n",
      "100%|██████████| 44/44 [00:31<00:00,  1.38it/s, D_fake=0.5, D_real=0.601]\n",
      "100%|██████████| 44/44 [00:32<00:00,  1.37it/s, D_fake=0.499, D_real=0.601]\n",
      "100%|██████████| 44/44 [00:31<00:00,  1.38it/s, D_fake=0.499, D_real=0.6]  \n",
      "100%|██████████| 44/44 [00:31<00:00,  1.38it/s, D_fake=0.499, D_real=0.602]\n",
      "100%|██████████| 44/44 [00:31<00:00,  1.38it/s, D_fake=0.501, D_real=0.601]\n",
      "100%|██████████| 44/44 [00:31<00:00,  1.38it/s, D_fake=0.499, D_real=0.603]\n"
     ]
    },
    {
     "name": "stdout",
     "output_type": "stream",
     "text": [
      "=> Saving checkpoint\n",
      "=> Saving checkpoint\n"
     ]
    },
    {
     "name": "stderr",
     "output_type": "stream",
     "text": [
      "100%|██████████| 44/44 [00:31<00:00,  1.38it/s, D_fake=0.502, D_real=0.605]\n",
      "100%|██████████| 44/44 [00:31<00:00,  1.39it/s, D_fake=0.5, D_real=0.607]  \n",
      "100%|██████████| 44/44 [00:31<00:00,  1.38it/s, D_fake=0.499, D_real=0.607]\n",
      "100%|██████████| 44/44 [00:31<00:00,  1.38it/s, D_fake=0.499, D_real=0.6]  \n",
      "100%|██████████| 44/44 [00:31<00:00,  1.38it/s, D_fake=0.518, D_real=0.604]\n",
      "100%|██████████| 44/44 [00:31<00:00,  1.38it/s, D_fake=0.499, D_real=0.606]\n",
      "100%|██████████| 44/44 [00:31<00:00,  1.38it/s, D_fake=0.5, D_real=0.604]  \n",
      "100%|██████████| 44/44 [00:31<00:00,  1.38it/s, D_fake=0.5, D_real=0.603]  \n",
      "100%|██████████| 44/44 [00:31<00:00,  1.38it/s, D_fake=0.499, D_real=0.61] \n",
      "100%|██████████| 44/44 [00:31<00:00,  1.38it/s, D_fake=0.499, D_real=0.61] \n"
     ]
    },
    {
     "name": "stdout",
     "output_type": "stream",
     "text": [
      "=> Saving checkpoint\n",
      "=> Saving checkpoint\n"
     ]
    },
    {
     "name": "stderr",
     "output_type": "stream",
     "text": [
      "100%|██████████| 44/44 [00:31<00:00,  1.38it/s, D_fake=0.5, D_real=0.609] \n",
      "100%|██████████| 44/44 [00:31<00:00,  1.38it/s, D_fake=0.499, D_real=0.612]\n",
      "100%|██████████| 44/44 [00:31<00:00,  1.39it/s, D_fake=0.5, D_real=0.613]  \n",
      "100%|██████████| 44/44 [00:32<00:00,  1.37it/s, D_fake=0.5, D_real=0.612]  \n",
      "100%|██████████| 44/44 [00:32<00:00,  1.37it/s, D_fake=0.499, D_real=0.614]\n",
      "100%|██████████| 44/44 [00:32<00:00,  1.37it/s, D_fake=0.518, D_real=0.59] \n",
      "100%|██████████| 44/44 [00:32<00:00,  1.36it/s, D_fake=0.5, D_real=0.613]  \n",
      "100%|██████████| 44/44 [00:32<00:00,  1.36it/s, D_fake=0.499, D_real=0.614]\n",
      "100%|██████████| 44/44 [00:31<00:00,  1.39it/s, D_fake=0.499, D_real=0.616]\n",
      "100%|██████████| 44/44 [00:31<00:00,  1.39it/s, D_fake=0.499, D_real=0.616]\n"
     ]
    },
    {
     "name": "stdout",
     "output_type": "stream",
     "text": [
      "=> Saving checkpoint\n",
      "=> Saving checkpoint\n"
     ]
    },
    {
     "name": "stderr",
     "output_type": "stream",
     "text": [
      "100%|██████████| 44/44 [00:31<00:00,  1.39it/s, D_fake=0.499, D_real=0.618]\n",
      "100%|██████████| 44/44 [00:32<00:00,  1.37it/s, D_fake=0.499, D_real=0.618]\n",
      "100%|██████████| 44/44 [00:32<00:00,  1.37it/s, D_fake=0.5, D_real=0.619]  \n",
      "100%|██████████| 44/44 [00:32<00:00,  1.36it/s, D_fake=0.499, D_real=0.619]\n",
      "100%|██████████| 44/44 [00:31<00:00,  1.39it/s, D_fake=0.5, D_real=0.618]  \n",
      "100%|██████████| 44/44 [00:31<00:00,  1.38it/s, D_fake=0.5, D_real=0.619]  \n",
      "100%|██████████| 44/44 [00:30<00:00,  1.46it/s, D_fake=0.5, D_real=0.621]  \n",
      "100%|██████████| 44/44 [00:30<00:00,  1.46it/s, D_fake=0.5, D_real=0.622]  \n",
      " 43%|████▎     | 19/44 [00:16<00:13,  1.81it/s, D_fake=0.5, D_real=0.621]"
     ]
    }
   ],
   "source": [
    "\n",
    "for epoch in range(config.EPOCHS):\n",
    "    train_fn(\n",
    "        disc, gen, train_loader, opt_disc, opt_gen, L1_LOSS, BCE, g_scaler, d_scaler,\n",
    "    )\n",
    "    \n",
    "    if config.SAVE_MODEL and epoch % 10 == 0 :\n",
    "        save_checkpoint(gen, opt_gen, filename=config.GENERATOR_CHECKPOINTS)\n",
    "        save_checkpoint(disc, opt_disc, filename=config.DISCRIMINATOR_CHECKPOINTS)\n",
    "    \n",
    "    save_some_examples(gen, val_loader, epoch, folder='generatedImages')"
   ]
  },
  {
   "cell_type": "code",
   "execution_count": null,
   "metadata": {},
   "outputs": [],
   "source": []
  }
 ],
 "metadata": {
  "kernelspec": {
   "display_name": "torch",
   "language": "python",
   "name": "python3"
  },
  "language_info": {
   "codemirror_mode": {
    "name": "ipython",
    "version": 3
   },
   "file_extension": ".py",
   "mimetype": "text/x-python",
   "name": "python",
   "nbconvert_exporter": "python",
   "pygments_lexer": "ipython3",
   "version": "3.12.3"
  }
 },
 "nbformat": 4,
 "nbformat_minor": 2
}
